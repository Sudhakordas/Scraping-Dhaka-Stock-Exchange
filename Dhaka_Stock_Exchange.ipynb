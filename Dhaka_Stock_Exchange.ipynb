{
 "cells": [
  {
   "cell_type": "markdown",
   "id": "ceb19954",
   "metadata": {},
   "source": [
    "# Importing Necessary libraries"
   ]
  },
  {
   "cell_type": "code",
   "execution_count": 4,
   "id": "560f7335",
   "metadata": {},
   "outputs": [],
   "source": [
    "import requests\n",
    "import bs4 \n",
    "from bs4 import BeautifulSoup\n",
    "import pandas as pd"
   ]
  },
  {
   "cell_type": "code",
   "execution_count": 5,
   "id": "4e889c5e",
   "metadata": {},
   "outputs": [],
   "source": [
    "url = 'https://www.dsebd.org/company_listing.php'\n",
    "#Function definition for getting the page\n",
    "def get_page(url):\n",
    "    response = requests.get(url)\n",
    "    soup = BeautifulSoup(response.content, 'lxml')\n",
    "    return soup"
   ]
  },
  {
   "cell_type": "code",
   "execution_count": 6,
   "id": "628bbba0",
   "metadata": {},
   "outputs": [],
   "source": [
    "#calling the get-page function\n",
    "soup = get_page(url)"
   ]
  },
  {
   "cell_type": "code",
   "execution_count": 7,
   "id": "b97f9ef8",
   "metadata": {},
   "outputs": [],
   "source": [
    "#function definition for getting the company_url\n",
    "def get_company_url(soup):\n",
    "    Company_url = []\n",
    "    base_url = 'https://www.dsebd.org/'\n",
    "    links = soup.find_all('a', class_ ='abhead')\n",
    "    for link in links:\n",
    "        url = base_url + link['href']\n",
    "        Company_url.append(url)\n",
    "    return Company_url"
   ]
  },
  {
   "cell_type": "code",
   "execution_count": 8,
   "id": "8d379cc5",
   "metadata": {},
   "outputs": [],
   "source": [
    "#calling the get_company_url function\n",
    "Company_url = get_company_url(soup)"
   ]
  },
  {
   "cell_type": "code",
   "execution_count": 9,
   "id": "ce595d34",
   "metadata": {},
   "outputs": [
    {
     "data": {
      "text/plain": [
       "['https://www.dsebd.org/displayCompany.php?name=1JANATAMF',\n",
       " 'https://www.dsebd.org/displayCompany.php?name=1STPRIMFMF',\n",
       " 'https://www.dsebd.org/displayCompany.php?name=AAMRANET',\n",
       " 'https://www.dsebd.org/displayCompany.php?name=AAMRATECH',\n",
       " 'https://www.dsebd.org/displayCompany.php?name=ABB1STMF',\n",
       " 'https://www.dsebd.org/displayCompany.php?name=ABBANK',\n",
       " 'https://www.dsebd.org/displayCompany.php?name=ACFL',\n",
       " 'https://www.dsebd.org/displayCompany.php?name=ACI',\n",
       " 'https://www.dsebd.org/displayCompany.php?name=ACIFORMULA',\n",
       " 'https://www.dsebd.org/displayCompany.php?name=ACMELAB']"
      ]
     },
     "execution_count": 9,
     "metadata": {},
     "output_type": "execute_result"
    }
   ],
   "source": [
    "Company_url[:10]"
   ]
  },
  {
   "cell_type": "code",
   "execution_count": 10,
   "id": "43f98263",
   "metadata": {},
   "outputs": [
    {
     "data": {
      "text/plain": [
       "384"
      ]
     },
     "execution_count": 10,
     "metadata": {},
     "output_type": "execute_result"
    }
   ],
   "source": [
    "len(Company_url)"
   ]
  },
  {
   "cell_type": "markdown",
   "id": "6e9a747b",
   "metadata": {},
   "source": [
    "# Finding the Columns"
   ]
  },
  {
   "cell_type": "code",
   "execution_count": 11,
   "id": "f7f64489",
   "metadata": {},
   "outputs": [],
   "source": [
    "#function for getting the columns\n",
    "def get_columns(random):\n",
    "    url = random\n",
    "    r = requests.get(url)\n",
    "    soup1 = BeautifulSoup(r.content, 'lxml')\n",
    "    \n",
    "    \n",
    "    Columns = ['Company_name', 'Trading_name']\n",
    "    \n",
    "    #Creating Columns for market information\n",
    "    Market_Information_table = soup1.find('table', class_='table table-bordered background-white')\n",
    "    for column in Market_Information_table.find_all('th'):\n",
    "        Columns.append(column.text.strip())\n",
    "    # insert New column as this was missing\n",
    "    Columns.insert(8, 'Change Percentage') \n",
    "\n",
    "    #Basic information table is 1th index in the list\n",
    "    #Creating Column for basic information\n",
    "    Basic_Information_table = soup1.find_all('table', class_='table table-bordered background-white')[1]\n",
    "    for column in Basic_Information_table.find_all('th')[:8]:\n",
    "        Columns.append(column.text.strip())\n",
    "\n",
    "    # Index of Company addres is 11\n",
    "    #Creating Columns for the Company address\n",
    "    address = []\n",
    "    Company_address = soup1.find_all('table', class_='table table-bordered background-white', id = 'company')[11]\n",
    "    for column in Company_address.find_all('td'):\n",
    "        data = column.text.strip()\n",
    "        address.append(data)\n",
    "    for i in range(0, len(address), 2):\n",
    "        Columns.append(address[i])    \n",
    "        \n",
    "    return Columns"
   ]
  },
  {
   "cell_type": "code",
   "execution_count": 12,
   "id": "215ac9e0",
   "metadata": {},
   "outputs": [
    {
     "data": {
      "text/plain": [
       "['Company_name',\n",
       " 'Trading_name',\n",
       " 'Last Trading Price',\n",
       " 'Closing Price',\n",
       " 'Last Update',\n",
       " \"Day's Range\",\n",
       " 'Change*',\n",
       " \"Day's Value (mn)\",\n",
       " 'Change Percentage',\n",
       " \"52 Weeks' Moving Range\",\n",
       " 'Opening Price',\n",
       " \"Day's Volume (Nos.)\",\n",
       " 'Adjusted Opening Price',\n",
       " \"Day's Trade (Nos.)\",\n",
       " \"Yesterday's Closing Price\",\n",
       " 'Market Capitalization (mn)',\n",
       " 'Authorized Capital (mn)',\n",
       " 'Debut Trading Date',\n",
       " 'Paid-up Capital (mn)',\n",
       " 'Type of Instrument',\n",
       " 'Face/par Value',\n",
       " 'Market Lot',\n",
       " 'Total No. of Outstanding Securities',\n",
       " 'Sector',\n",
       " 'Address',\n",
       " 'Contact Phone',\n",
       " 'Fax',\n",
       " 'E-mail',\n",
       " 'Web Address',\n",
       " 'Company Secretary Name',\n",
       " 'Cell No.',\n",
       " 'Telephone No.',\n",
       " 'E-mail']"
      ]
     },
     "execution_count": 12,
     "metadata": {},
     "output_type": "execute_result"
    }
   ],
   "source": [
    "#calling the column generating function foe any random company url\n",
    "ran = Company_url[1]\n",
    "Columns = get_columns(ran)\n",
    "Columns"
   ]
  },
  {
   "cell_type": "markdown",
   "id": "6861b311",
   "metadata": {},
   "source": [
    "# Finding the value under each columns"
   ]
  },
  {
   "cell_type": "code",
   "execution_count": 14,
   "id": "588b99c7",
   "metadata": {},
   "outputs": [],
   "source": [
    "Company_data = []\n",
    "for url in Company_url:\n",
    "    \n",
    "    response = requests.get(url)\n",
    "    soup1 = BeautifulSoup(response.content, 'lxml')\n",
    "\n",
    "\n",
    "    Data = []\n",
    "    #Finding Company_name.\n",
    "    Company_name = soup1.find('h2', class_ = 'BodyHead topBodyHead').text.split(':')[1]\n",
    "    Company_name = Company_name.split('\\n')[0].strip()\n",
    "    Data.append(Company_name)\n",
    "\n",
    "    #Splinting the Trading_name.\n",
    "    Trading_name = url.split('=')[1]\n",
    "    Data.append(Trading_name)\n",
    "\n",
    "    # Getting the table data from market information table\n",
    "    Market_Information_table = soup1.find('table', class_='table table-bordered background-white')\n",
    "    for column_data in Market_Information_table.find_all('td'):\n",
    "        Data.append(column_data.text.strip())\n",
    "    \n",
    "    # Getting the table data from basic information table\n",
    "    Basic_Information_table = soup1.find_all('table', class_='table table-bordered background-white')[1]\n",
    "    for column_data in Basic_Information_table.find_all('td')[:8]:\n",
    "        Data.append(column_data.text.strip())\n",
    "\n",
    "    # Getting the table data from company address table\n",
    "    add_data = []\n",
    "    Company_address = soup1.find_all('table', class_='table table-bordered background-white')[11]\n",
    "    for column_data in Company_address.find_all('td'):\n",
    "        data = column_data.text.strip()\n",
    "        add_data.append(data)\n",
    "\n",
    "    for i in range(1, len(add_data), 2):\n",
    "        Data.append(add_data[i]) \n",
    "\n",
    "    Data_t = tuple(Data) # Converting the list into touple \n",
    "    Company_data.append(Data_t) # Appending touple into the list for the inserting porpuse in the sqlite data"
   ]
  },
  {
   "cell_type": "code",
   "execution_count": 16,
   "id": "f47bf855",
   "metadata": {},
   "outputs": [
    {
     "data": {
      "text/plain": [
       "384"
      ]
     },
     "execution_count": 16,
     "metadata": {},
     "output_type": "execute_result"
    }
   ],
   "source": [
    "len(Company_data)"
   ]
  },
  {
   "cell_type": "code",
   "execution_count": 17,
   "id": "397e2ee7",
   "metadata": {},
   "outputs": [
    {
     "name": "stdout",
     "output_type": "stream",
     "text": [
      "('Company_name', 'Trading_name', 'Last Trading Price', 'Closing Price', 'Last Update', \"Day's Range\", 'Change*', \"Day's Value (mn)\", 'Change Percentage', \"52 Weeks' Moving Range\", 'Opening Price', \"Day's Volume (Nos.)\", 'Adjusted Opening Price', \"Day's Trade (Nos.)\", \"Yesterday's Closing Price\", 'Market Capitalization (mn)', 'Authorized Capital (mn)', 'Debut Trading Date', 'Paid-up Capital (mn)', 'Type of Instrument', 'Face/par Value', 'Market Lot', 'Total No. of Outstanding Securities', 'Sector', 'Address', 'Contact Phone', 'Fax', 'E-mail', 'Web Address', 'Company Secretary Name', 'Cell No.', 'Telephone No.', 'E-mail')\n"
     ]
    }
   ],
   "source": [
    "Columns_t = tuple(Columns)\n",
    "print(Columns_t)"
   ]
  },
  {
   "cell_type": "markdown",
   "id": "7bf6c983",
   "metadata": {},
   "source": [
    "# Storing the data in the sqlite3 database"
   ]
  },
  {
   "cell_type": "code",
   "execution_count": 18,
   "id": "50d3c7d4",
   "metadata": {},
   "outputs": [],
   "source": [
    "import sqlite3"
   ]
  },
  {
   "cell_type": "code",
   "execution_count": 19,
   "id": "37243e1c",
   "metadata": {},
   "outputs": [],
   "source": [
    "con = sqlite3.connect('Stock_exchange.db')\n",
    "cur = con.cursor()"
   ]
  },
  {
   "cell_type": "code",
   "execution_count": 20,
   "id": "b5a21151",
   "metadata": {},
   "outputs": [
    {
     "data": {
      "text/plain": [
       "<sqlite3.Cursor at 0x2205eaad8f0>"
      ]
     },
     "execution_count": 20,
     "metadata": {},
     "output_type": "execute_result"
    }
   ],
   "source": [
    "cur.execute('''CREATE TABLE IF NOT EXISTS Stock_data \n",
    "('Company_name', 'Trading_name','Last Trading Price', 'Closing Price', 'Last Update', \"Day's Range\", 'Change*', \"Day's Value (mn)\", \"52 Weeks' Moving Range\", 'Opening Price', 'Change Percentage', \"Day's Volume (Nos.)\", 'Adjusted Opening Price', \"Day's Trade (Nos.)\", \"Yesterday's Closing Price\", 'Market Capitalization (mn)', 'Authorized Capital (mn)', 'Debut Trading Date', 'Paid-up Capital (mn)', 'Type of Instrument', 'Face/par Value', 'Market Lot', 'Total No. of Outstanding Securities', 'Sector', 'Address', 'Contact Phone', 'Fax', 'E-mail', 'Web Address', 'Company Secretary Name', 'Cell No.', 'Telephone No.', 'Email')''')"
   ]
  },
  {
   "cell_type": "code",
   "execution_count": 21,
   "id": "04ed53dd",
   "metadata": {},
   "outputs": [
    {
     "name": "stdout",
     "output_type": "stream",
     "text": [
      "Total columns are : 33\n"
     ]
    }
   ],
   "source": [
    "print('Total columns are :', len(Columns) )"
   ]
  },
  {
   "cell_type": "code",
   "execution_count": 22,
   "id": "def516b6",
   "metadata": {},
   "outputs": [
    {
     "data": {
      "text/plain": [
       "<sqlite3.Cursor at 0x2205eaad8f0>"
      ]
     },
     "execution_count": 22,
     "metadata": {},
     "output_type": "execute_result"
    }
   ],
   "source": [
    "cur.executemany('''INSERT INTO Stock_data VALUES\n",
    "                (?, ?, ?, ?, ?, ?, ?, ?, ?, ?, ?, ?, ?, ?, ?, ?, ?, ?, ?, ?, ?, ?, ?, ?, ?, ?, ?, ?, ?, ?, ?, ?, ?)''', Company_data)"
   ]
  },
  {
   "cell_type": "code",
   "execution_count": 23,
   "id": "7a5a4ab2",
   "metadata": {},
   "outputs": [],
   "source": [
    "con.commit()"
   ]
  },
  {
   "cell_type": "code",
   "execution_count": 24,
   "id": "4b2c3418",
   "metadata": {},
   "outputs": [],
   "source": [
    "con.close()"
   ]
  },
  {
   "cell_type": "code",
   "execution_count": 25,
   "id": "6389cca6",
   "metadata": {},
   "outputs": [],
   "source": [
    "#Converting into csv\n",
    "# convert list of tuples to list of list\n",
    "Company_data = [list(data) for data in Company_data]\n"
   ]
  },
  {
   "cell_type": "code",
   "execution_count": 27,
   "id": "a7653126",
   "metadata": {},
   "outputs": [],
   "source": [
    "import pandas as pd\n",
    "df = pd.DataFrame(Company_data, columns=Columns)"
   ]
  },
  {
   "cell_type": "code",
   "execution_count": 29,
   "id": "5ebcfddb",
   "metadata": {},
   "outputs": [],
   "source": [
    "#Converting into csv\n",
    "df.to_csv('DSE .csv', index=False)"
   ]
  },
  {
   "cell_type": "code",
   "execution_count": null,
   "id": "686b8d96",
   "metadata": {},
   "outputs": [],
   "source": []
  }
 ],
 "metadata": {
  "kernelspec": {
   "display_name": "Python 3",
   "language": "python",
   "name": "python3"
  },
  "language_info": {
   "codemirror_mode": {
    "name": "ipython",
    "version": 3
   },
   "file_extension": ".py",
   "mimetype": "text/x-python",
   "name": "python",
   "nbconvert_exporter": "python",
   "pygments_lexer": "ipython3",
   "version": "3.6.13"
  }
 },
 "nbformat": 4,
 "nbformat_minor": 5
}
